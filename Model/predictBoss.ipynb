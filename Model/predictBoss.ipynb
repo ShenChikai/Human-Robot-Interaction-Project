{
 "cells": [
  {
   "cell_type": "code",
   "execution_count": 1,
   "id": "0ac557f2-fda0-46a8-8b90-47159ae55457",
   "metadata": {},
   "outputs": [],
   "source": [
    "import datetime \n",
    "import pandas as pd\n",
    "import numpy as np"
   ]
  },
  {
   "cell_type": "markdown",
   "id": "8af0b268-9310-4139-8185-3dec1fd68ccc",
   "metadata": {},
   "source": [
    "## Read file"
   ]
  },
  {
   "cell_type": "code",
   "execution_count": 2,
   "id": "4857b708-0906-4f65-a529-980ba99b7ef2",
   "metadata": {},
   "outputs": [
    {
     "data": {
      "text/html": [
       "<div>\n",
       "<style scoped>\n",
       "    .dataframe tbody tr th:only-of-type {\n",
       "        vertical-align: middle;\n",
       "    }\n",
       "\n",
       "    .dataframe tbody tr th {\n",
       "        vertical-align: top;\n",
       "    }\n",
       "\n",
       "    .dataframe thead th {\n",
       "        text-align: right;\n",
       "    }\n",
       "</style>\n",
       "<table border=\"1\" class=\"dataframe\">\n",
       "  <thead>\n",
       "    <tr style=\"text-align: right;\">\n",
       "      <th></th>\n",
       "      <th>timestamp</th>\n",
       "      <th>is_boss</th>\n",
       "    </tr>\n",
       "  </thead>\n",
       "  <tbody>\n",
       "    <tr>\n",
       "      <th>0</th>\n",
       "      <td>11:45:11</td>\n",
       "      <td>False</td>\n",
       "    </tr>\n",
       "    <tr>\n",
       "      <th>1</th>\n",
       "      <td>16:07:28</td>\n",
       "      <td>False</td>\n",
       "    </tr>\n",
       "    <tr>\n",
       "      <th>2</th>\n",
       "      <td>13:44:26</td>\n",
       "      <td>True</td>\n",
       "    </tr>\n",
       "    <tr>\n",
       "      <th>3</th>\n",
       "      <td>13:09:56</td>\n",
       "      <td>False</td>\n",
       "    </tr>\n",
       "    <tr>\n",
       "      <th>4</th>\n",
       "      <td>15:31:22</td>\n",
       "      <td>True</td>\n",
       "    </tr>\n",
       "  </tbody>\n",
       "</table>\n",
       "</div>"
      ],
      "text/plain": [
       "  timestamp  is_boss\n",
       "0  11:45:11    False\n",
       "1  16:07:28    False\n",
       "2  13:44:26     True\n",
       "3  13:09:56    False\n",
       "4  15:31:22     True"
      ]
     },
     "execution_count": 2,
     "metadata": {},
     "output_type": "execute_result"
    }
   ],
   "source": [
    "df = pd.read_csv('hri_proj_db.csv')\n",
    "df.head()"
   ]
  },
  {
   "cell_type": "markdown",
   "id": "6bc61474-7d85-416f-9cd8-c0257b770f6d",
   "metadata": {},
   "source": [
    "## Train"
   ]
  },
  {
   "cell_type": "code",
   "execution_count": 3,
   "id": "5e8b541d-9141-4215-837f-c100d60e8412",
   "metadata": {},
   "outputs": [
    {
     "name": "stdout",
     "output_type": "stream",
     "text": [
      "Row to train: 482\n",
      "(482, 2) (54, 2)\n"
     ]
    }
   ],
   "source": [
    "train_num = int(0.9 * len(df['is_boss']))\n",
    "print(\"Row to train:\",train_num)\n",
    "train = df.iloc[:train_num,:]\n",
    "test = df.iloc[train_num:,:]\n",
    "print(train.shape, test.shape)"
   ]
  },
  {
   "cell_type": "code",
   "execution_count": 4,
   "id": "2057ea20-a9df-4b02-bf09-fb5cd550a684",
   "metadata": {},
   "outputs": [
    {
     "name": "stderr",
     "output_type": "stream",
     "text": [
      "C:\\Users\\shenc\\AppData\\Local\\Temp\\ipykernel_9916\\898673144.py:11: SettingWithCopyWarning: \n",
      "A value is trying to be set on a copy of a slice from a DataFrame.\n",
      "Try using .loc[row_indexer,col_indexer] = value instead\n",
      "\n",
      "See the caveats in the documentation: https://pandas.pydata.org/pandas-docs/stable/user_guide/indexing.html#returning-a-view-versus-a-copy\n",
      "  train['block'] = [convertBlock(train.loc[i, 'timestamp']) for i in range(len(train['timestamp']))]\n"
     ]
    },
    {
     "data": {
      "text/html": [
       "<div>\n",
       "<style scoped>\n",
       "    .dataframe tbody tr th:only-of-type {\n",
       "        vertical-align: middle;\n",
       "    }\n",
       "\n",
       "    .dataframe tbody tr th {\n",
       "        vertical-align: top;\n",
       "    }\n",
       "\n",
       "    .dataframe thead th {\n",
       "        text-align: right;\n",
       "    }\n",
       "</style>\n",
       "<table border=\"1\" class=\"dataframe\">\n",
       "  <thead>\n",
       "    <tr style=\"text-align: right;\">\n",
       "      <th></th>\n",
       "      <th>timestamp</th>\n",
       "      <th>is_boss</th>\n",
       "      <th>block</th>\n",
       "    </tr>\n",
       "  </thead>\n",
       "  <tbody>\n",
       "    <tr>\n",
       "      <th>0</th>\n",
       "      <td>11:45:11</td>\n",
       "      <td>False</td>\n",
       "      <td>11</td>\n",
       "    </tr>\n",
       "    <tr>\n",
       "      <th>1</th>\n",
       "      <td>16:07:28</td>\n",
       "      <td>False</td>\n",
       "      <td>28</td>\n",
       "    </tr>\n",
       "    <tr>\n",
       "      <th>2</th>\n",
       "      <td>13:44:26</td>\n",
       "      <td>True</td>\n",
       "      <td>18</td>\n",
       "    </tr>\n",
       "    <tr>\n",
       "      <th>3</th>\n",
       "      <td>13:09:56</td>\n",
       "      <td>False</td>\n",
       "      <td>16</td>\n",
       "    </tr>\n",
       "    <tr>\n",
       "      <th>4</th>\n",
       "      <td>15:31:22</td>\n",
       "      <td>True</td>\n",
       "      <td>26</td>\n",
       "    </tr>\n",
       "  </tbody>\n",
       "</table>\n",
       "</div>"
      ],
      "text/plain": [
       "  timestamp  is_boss  block\n",
       "0  11:45:11    False     11\n",
       "1  16:07:28    False     28\n",
       "2  13:44:26     True     18\n",
       "3  13:09:56    False     16\n",
       "4  15:31:22     True     26"
      ]
     },
     "execution_count": 4,
     "metadata": {},
     "output_type": "execute_result"
    }
   ],
   "source": [
    "# Chop the day time into 32 blocks of 15-minute time block\n",
    "def convertBlock(timestamp):\n",
    "    time = timestamp.split(':')\n",
    "    # #hour * 60min + min = 480 min\n",
    "    hour = int(time[0]) - 9 # hour start at 09:00\n",
    "    minute = int(time[1])\n",
    "    total = hour * 60 + minute\n",
    "    return int(total / 15)\n",
    "\n",
    "# Add a column for the block\n",
    "train['block'] = [convertBlock(train.loc[i, 'timestamp']) for i in range(len(train['timestamp']))]\n",
    "train.head()"
   ]
  },
  {
   "cell_type": "code",
   "execution_count": 5,
   "id": "b8547b0a-3d9f-4fe8-b3ec-86f155dbbc56",
   "metadata": {},
   "outputs": [
    {
     "data": {
      "text/plain": [
       "True     262\n",
       "False    220\n",
       "Name: is_boss, dtype: int64"
      ]
     },
     "execution_count": 5,
     "metadata": {},
     "output_type": "execute_result"
    }
   ],
   "source": [
    "train['is_boss'].value_counts()"
   ]
  },
  {
   "cell_type": "code",
   "execution_count": 6,
   "id": "6c643420-2589-4ee9-b0d3-a98c07696778",
   "metadata": {},
   "outputs": [
    {
     "data": {
      "text/plain": [
       "array([0.0610687 , 0.03435115, 0.03816794, 0.02671756, 0.02290076,\n",
       "       0.03435115, 0.03435115, 0.01526718, 0.03435115, 0.03816794,\n",
       "       0.02290076, 0.03053435, 0.01526718, 0.01908397, 0.03435115,\n",
       "       0.03053435, 0.03053435, 0.02671756, 0.01908397, 0.03816794,\n",
       "       0.0610687 , 0.04961832, 0.01908397, 0.01908397, 0.04198473,\n",
       "       0.03053435, 0.03816794, 0.02290076, 0.02671756, 0.02290076,\n",
       "       0.03435115, 0.02671756])"
      ]
     },
     "execution_count": 6,
     "metadata": {},
     "output_type": "execute_result"
    }
   ],
   "source": [
    "# Calculate probabilities from the dataset\n",
    "# P(Time = T)\n",
    "p_time = 1/32\n",
    "\n",
    "# P(Boss = True)\n",
    "p_boss = train['is_boss'].value_counts()[1] / len(train['is_boss'])\n",
    "\n",
    "# P(Time = T | Boss = True) = P(Time = T ∩ Boss = True) / P(Boss = True)\n",
    "p_time_and_boss = np.zeros(32)\n",
    "for i in range(32):\n",
    "    p_time_and_boss[i] = len(train[(train['is_boss'] == True) & (train['block'] == i)]) / len(train['is_boss'])\n",
    "    \n",
    "p_time_given_boss = p_time_and_boss / p_boss\n",
    "p_time_given_boss"
   ]
  },
  {
   "cell_type": "markdown",
   "id": "960b3cec-2d6f-40fa-9ded-f41388db113e",
   "metadata": {},
   "source": [
    "# Test"
   ]
  },
  {
   "cell_type": "code",
   "execution_count": 7,
   "id": "fdbc3b2c-bd4b-433b-9081-3464f8544632",
   "metadata": {},
   "outputs": [],
   "source": [
    "# Target: P(Boss = True | Time = T)\n",
    "def predictBoss(timestamp):\n",
    "    block = convertBlock(timestamp)\n",
    "    # P(Boss = True | Time = T) = (P(Time = T | Boss = True) * P(Boss = True)) / P(Time = T)\n",
    "    p_boss_given_time = (p_time_given_boss[block] * p_boss) / p_time\n",
    "    # Set the confidence threshold to 0.7\n",
    "    if p_boss_given_time > 0.7:\n",
    "        return True\n",
    "    return False"
   ]
  },
  {
   "cell_type": "code",
   "execution_count": 8,
   "id": "13f9ca9c-1639-4772-ae70-50e73a62f3af",
   "metadata": {},
   "outputs": [
    {
     "name": "stdout",
     "output_type": "stream",
     "text": [
      "Accuracy = 0.5740740740740741\n"
     ]
    }
   ],
   "source": [
    "# Test\n",
    "results = np.zeros(len(test['is_boss']))\n",
    "for i in range(len(test['is_boss'])):\n",
    "    if predictBoss(df.loc[i,'timestamp']) == df.loc[i,'is_boss']:\n",
    "        results[i] = 1\n",
    "# Show accuracy\n",
    "print('Accuracy =', np.sum(results)/len(results))"
   ]
  }
 ],
 "metadata": {
  "kernelspec": {
   "display_name": "Python 3 (ipykernel)",
   "language": "python",
   "name": "python3"
  },
  "language_info": {
   "codemirror_mode": {
    "name": "ipython",
    "version": 3
   },
   "file_extension": ".py",
   "mimetype": "text/x-python",
   "name": "python",
   "nbconvert_exporter": "python",
   "pygments_lexer": "ipython3",
   "version": "3.9.12"
  }
 },
 "nbformat": 4,
 "nbformat_minor": 5
}
